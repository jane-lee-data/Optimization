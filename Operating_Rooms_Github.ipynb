{
 "cells": [
  {
   "cell_type": "markdown",
   "id": "7118d6ef-f306-4cef-b73b-f755e94399b9",
   "metadata": {},
   "source": [
    "# Optimization: Operation Room Scheduling"
   ]
  },
  {
   "cell_type": "markdown",
   "id": "dd44eaf7-e793-44f2-8fa0-4df5ecc75613",
   "metadata": {},
   "source": [
    "### Goal:\n",
    "A hospital is relocating to a larger hospital with five operating rooms. Relocation will increase weekly operating hours from 190 to 213.5 hours. The task is to create a new schedule for six departments that allocate slots in an equitable way. 'Equitable' here means each department maintaining the current share (%) of operating hours and minimize total underallocation (%) of each department to operating rooms.\n",
    "\n",
    "#### (1) Optimization Model"
   ]
  },
  {
   "cell_type": "markdown",
   "id": "df5bfefd-bd6e-4d4c-acf8-8bc610be04c1",
   "metadata": {},
   "source": [
    "$$\n",
    "\\begin{align}\n",
    "s_i &= \\text{underallocation of department } i \\text{ (total number of hours below the target)} \\\\\n",
    "t_i &= \\text{target hours that department } i \\text{ should receive} \\\\\n",
    "x_i &= \\text{the new no. of hours allocated to department } i \\\\\n",
    "y_{ijk} &= 1 \\text{ if department } i \\text{ is allocated to room } j \\text{ in day } k, 0 \\text{ otherwise} \\\\\n",
    "\\end{align}\n",
    "$$\n"
   ]
  },
  {
   "cell_type": "markdown",
   "id": "195a84fe-0720-4a27-b5cf-575034fa0a62",
   "metadata": {
    "tags": []
   },
   "source": [
    "$$\n",
    "\\begin{align}\n",
    "\\underset{{\\bf s}}{\\text{min}} \\;\\; & \\sum_{i = 1}^6 \\dfrac{s_i}{t_i} \\\\\n",
    "\\text{s.t.} \\;\\; & s_i =\\begin{cases} \n",
    "0 &\\text{ if } t_i < x_i\\\\\n",
    "t_i - x_i &\\text{if } t_i \\geq x_i\n",
    "\\end{cases} \\\\\n",
    "& y_{ijk} \\in \\{0, 1\\}\\\\\n",
    "& \\sum_{i = 1}^6 y_{ijk} = 1\\\\\n",
    "& \\sum_{i = 1}^6 x_i = 213.5\\\\\n",
    "& x_i \\geq 0\\\\\n",
    "i &= 1, 2, ..., 6 \\;\\;\\;\\; j = 1, 2, ..., 5 \\;\\;\\;\\; k = 1, 2, ..., 5\n",
    "\\end{align}\n",
    "$$\n"
   ]
  },
  {
   "cell_type": "markdown",
   "id": "55f1e490-ddc6-4ef1-8668-cfca3c52f231",
   "metadata": {},
   "source": [
    "#### (2) Python code"
   ]
  },
  {
   "cell_type": "markdown",
   "id": "0ad8f27a-0606-440c-a5a6-43ed647b874b",
   "metadata": {},
   "source": [
    "##### Preparation & Parameter Definitions"
   ]
  },
  {
   "cell_type": "code",
   "execution_count": 1,
   "id": "7c70d445-fc92-4399-a911-d28904cc2561",
   "metadata": {
    "tags": []
   },
   "outputs": [],
   "source": [
    "# Import gurobi and numpy\n",
    "from gurobipy import *\n",
    "import numpy as np"
   ]
  },
  {
   "cell_type": "code",
   "execution_count": 2,
   "id": "fd8ce496-98d6-4f55-81f0-aaf1b1b72241",
   "metadata": {
    "tags": []
   },
   "outputs": [],
   "source": [
    "# Create list of timetable\n",
    "timetable = [[9, 9, 9, 9, 7.5],\n",
    "             [9, 9, 9, 9, 7.5],\n",
    "             [9, 9, 9, 9, 7.5],\n",
    "             [9, 9, 9, 9, 7.5],\n",
    "             [9, 8, 8, 8, 6.5]]"
   ]
  },
  {
   "cell_type": "code",
   "execution_count": 3,
   "id": "0915cc38-acc2-46da-b6fa-79edd028292c",
   "metadata": {
    "tags": []
   },
   "outputs": [],
   "source": [
    "# i departments\n",
    "dept = 6\n",
    "# j rooms\n",
    "room = 5\n",
    "# k days\n",
    "day = 5"
   ]
  },
  {
   "cell_type": "code",
   "execution_count": 4,
   "id": "2e92b966-78da-4890-bd42-23f3627972ab",
   "metadata": {
    "tags": []
   },
   "outputs": [
    {
     "data": {
      "text/plain": [
       "[103.37894736842105,\n",
       " 8.989473684210527,\n",
       " 53.93684210526316,\n",
       " 15.731578947368419,\n",
       " 11.236842105263158,\n",
       " 20.226315789473684]"
      ]
     },
     "execution_count": 4,
     "metadata": {},
     "output_type": "execute_result"
    }
   ],
   "source": [
    "#Create target share list\n",
    "share =  np.array([92, 8, 48, 14, 10, 18], dtype=float)\n",
    "share /= 190\n",
    "\n",
    "# Calculate target total hours for each department (t_i)\n",
    "target = []\n",
    "for i in range(dept):\n",
    "    val = float(213.5 * share[i])\n",
    "    target.append(val)\n",
    "target"
   ]
  },
  {
   "cell_type": "markdown",
   "id": "94d0e172-8534-489e-af40-9de0fdc56e37",
   "metadata": {},
   "source": [
    "##### Create the model"
   ]
  },
  {
   "cell_type": "code",
   "execution_count": 5,
   "id": "c8fbe5c4-d0f3-4cc0-b6a9-4f80bcbfd8f8",
   "metadata": {
    "tags": []
   },
   "outputs": [
    {
     "name": "stdout",
     "output_type": "stream",
     "text": [
      "Set parameter Username\n",
      "Academic license - for non-commercial use only - expires 2025-01-10\n",
      "Gurobi Optimizer version 11.0.0 build v11.0.0rc2 (mac64[arm] - Darwin 22.6.0 22G320)\n",
      "\n",
      "CPU model: Apple M2 Pro\n",
      "Thread count: 10 physical cores, 10 logical processors, using up to 10 threads\n",
      "\n",
      "Optimize a model with 49 rows, 162 columns and 330 nonzeros\n",
      "Model fingerprint: 0x1ad83627\n",
      "Variable types: 12 continuous, 150 integer (150 binary)\n",
      "Coefficient statistics:\n",
      "  Matrix range     [1e+00, 9e+00]\n",
      "  Objective range  [1e-02, 1e-01]\n",
      "  Bounds range     [1e+00, 1e+00]\n",
      "  RHS range        [1e+00, 1e+02]\n",
      "Presolve removed 18 rows and 6 columns\n",
      "Presolve time: 0.00s\n",
      "Presolved: 31 rows, 156 columns, 306 nonzeros\n",
      "Variable types: 1 continuous, 155 integer (150 binary)\n",
      "Found heuristic solution: objective 0.6786365\n",
      "Found heuristic solution: objective 0.1584360\n",
      "\n",
      "Root relaxation: objective 0.000000e+00, 58 iterations, 0.00 seconds (0.00 work units)\n",
      "\n",
      "    Nodes    |    Current Node    |     Objective Bounds      |     Work\n",
      " Expl Unexpl |  Obj  Depth IntInf | Incumbent    BestBd   Gap | It/Node Time\n",
      "\n",
      "     0     0    0.00000    0    8    0.15844    0.00000   100%     -    0s\n",
      "H    0     0                       0.0980170    0.00000   100%     -    0s\n",
      "H    0     0                       0.0597275    0.05008  16.2%     -    0s\n",
      "     0     0    0.05182    0    8    0.05973    0.05182  13.2%     -    0s\n",
      "H    0     0                       0.0520314    0.05194  0.17%     -    0s\n",
      "     0     0    0.05203    0   10    0.05203    0.05203  0.00%     -    0s\n",
      "\n",
      "Cutting planes:\n",
      "  Gomory: 1\n",
      "  Cover: 4\n",
      "  MIR: 3\n",
      "  StrongCG: 1\n",
      "\n",
      "Explored 1 nodes (244 simplex iterations) in 0.06 seconds (0.00 work units)\n",
      "Thread count was 10 (of 10 available processors)\n",
      "\n",
      "Solution count 5: 0.0520314 0.0597275 0.098017 ... 0.678636\n",
      "\n",
      "Optimal solution found (tolerance 1.00e-04)\n",
      "Best objective 5.203136115590e-02, best bound 5.203136115590e-02, gap 0.0000%\n"
     ]
    }
   ],
   "source": [
    "# Define model\n",
    "mod = Model()\n",
    "\n",
    "# Define decision variable\n",
    "s = mod.addVars(6, lb=0, vtype=GRB.CONTINUOUS)\n",
    "x = mod.addVars(6, vtype=GRB.CONTINUOUS)\n",
    "y = mod.addVars(dept, room, day, vtype = GRB.BINARY)\n",
    "\n",
    "\n",
    "# Construct constraints\n",
    "for i in range(dept):\n",
    "    # Calculation of the total hours allocated to each department\n",
    "    mod.addConstr(sum(y[i, j, k] * timetable[j][k] for j in range(room) for k in range(day)) == x[i])\n",
    "    # Underallocation, s\n",
    "    mod.addConstr(s[i] >= target[i] - x[i])\n",
    "    # Non-negative constraint; ignore overallocation\n",
    "    mod.addConstr(s[i] >= 0)\n",
    "\n",
    "# Ensure each room on each day is allocated to one department only & total adds up to 213.5 hrs\n",
    "for j in range(room):\n",
    "    for k in range(5):\n",
    "        mod.addConstr(sum(y[i, j, k] for i in range(dept)) == 1)\n",
    "        \n",
    "# Non-negative Constraint\n",
    "for i in range(dept):\n",
    "    mod.addConstr(x[i] >= 0)\n",
    "\n",
    "    \n",
    "# Objective function\n",
    "mod.setObjective(sum((s[i]/target[i] for i in range(dept))), GRB.MINIMIZE)\n",
    "\n",
    "mod.update()\n",
    "\n",
    "mod.optimize()"
   ]
  },
  {
   "cell_type": "markdown",
   "id": "909eae82-9e32-4117-9710-b4350c94d03e",
   "metadata": {},
   "source": [
    "</br>"
   ]
  },
  {
   "cell_type": "markdown",
   "id": "c8266abb-a636-48af-82f1-f82b79ee88df",
   "metadata": {},
   "source": [
    "#### (3) Reporting - allocation hours & timetable"
   ]
  },
  {
   "cell_type": "code",
   "execution_count": 6,
   "id": "0a50bd0f-e426-4adc-bb9b-adeb7021c47e",
   "metadata": {
    "tags": []
   },
   "outputs": [
    {
     "name": "stdout",
     "output_type": "stream",
     "text": [
      "Optimal objective value: 0.052031361155899465\n",
      "\n",
      "DEPT  Allocated   Underallocation   \n",
      "\n",
      "1          98.0      5.4    5.2%\n",
      "\n",
      "2           9.0      0.0    0.0%\n",
      "\n",
      "3          54.0      0.0    0.0%\n",
      "\n",
      "4          16.0      0.0    0.0%\n",
      "\n",
      "5          14.0      0.0    0.0%\n",
      "\n",
      "6          22.5      0.0    0.0%\n",
      "\n"
     ]
    }
   ],
   "source": [
    "# Readable format \n",
    "if mod.status == GRB.OPTIMAL:\n",
    "    print(f'Optimal objective value: {mod.objVal}\\n')\n",
    "    print(f'{\"DEPT\":<6}{\"Allocated\":<10}{\"Underallocation\":^20}')\n",
    "    print()\n",
    "    for i in range(dept):\n",
    "        allocated = x[i].X\n",
    "        underalloc = s[i].X\n",
    "        under_percent = (underalloc / target[i]) * 100 if  s[i].X != 0 else 0\n",
    "        print(f'{i+1:<6}{allocated:>9.1f}{underalloc:>9.1f}{under_percent:>7.1f}%')\n",
    "        print()\n",
    "else:\n",
    "    print('No optimal solution found')"
   ]
  },
  {
   "cell_type": "code",
   "execution_count": 7,
   "id": "fa4ce249-1644-4aed-a2d0-8d09b972becd",
   "metadata": {
    "tags": []
   },
   "outputs": [
    {
     "name": "stdout",
     "output_type": "stream",
     "text": [
      "New Allocation Timetable for Departments (Dept. Indexed 1-6):\n",
      "\n",
      "          Mon  Tue  Wed  Thu  Fri \n",
      "Room 1:     1    1    1    1    6 \n",
      "Room 2:     3    3    3    3    6 \n",
      "Room 3:     3    3    1    1    6 \n",
      "Room 4:     1    2    1    1    5 \n",
      "Room 5:     1    1    4    4    5 \n"
     ]
    }
   ],
   "source": [
    "room_allocations = mod.getAttr('x', y)\n",
    "\n",
    "allocation_table = [[0, 0, 0, 0, 0],\n",
    "                    [0, 0, 0, 0, 0],\n",
    "                    [0, 0, 0, 0, 0],\n",
    "                    [0, 0, 0, 0, 0],\n",
    "                    [0, 0, 0, 0, 0]]\n",
    "\n",
    "for i in range(dept):\n",
    "    for j in range(room):\n",
    "        for k in range(day):\n",
    "            if room_allocations[i, j, k] > 0.9:\n",
    "                allocation_table[j][k] = i+1\n",
    "\n",
    "# Print Table in Readable Format\n",
    "print('New Allocation Timetable for Departments (Dept. Indexed 1-6):')\n",
    "print()\n",
    "days = {0: 'Mon', 1:'Tue', 2: 'Wed', 3: 'Thu', 4: 'Fri'}               \n",
    "\n",
    "print('         ', end='')\n",
    "for k in range (day):\n",
    "    print(f'{days[k]:>4}', end=' ')\n",
    "print()\n",
    "\n",
    "for j in range(room):\n",
    "    print (f'Room {j+1}: ', end=' ')\n",
    "    for k in range(day):\n",
    "        print(f'{allocation_table[j][k]:>4}', end=' ')\n",
    "    print()\n"
   ]
  },
  {
   "cell_type": "markdown",
   "id": "6996b6a7-2722-4985-8d48-46d50402f054",
   "metadata": {},
   "source": [
    "</br>"
   ]
  },
  {
   "cell_type": "markdown",
   "id": "677cc404-be9d-49b6-8348-02a00872b991",
   "metadata": {},
   "source": [
    "### Floor Constraints\n",
    "Rooms 1 and 2 are on the first floor, 3 and 4 are on the second, and 5 is on the third floor.  \n",
    "If no department can be split between two or more floors on the same day, how will the schedule change?"
   ]
  },
  {
   "cell_type": "markdown",
   "id": "1e1f1ac2-b327-4656-89b3-6a1514470400",
   "metadata": {},
   "source": [
    "#### (1) Optimization model"
   ]
  },
  {
   "cell_type": "markdown",
   "id": "a37dd287-5dbb-4ade-802e-e5695ef9e84d",
   "metadata": {},
   "source": [
    "$$\n",
    "\\begin{align}\n",
    "s_i &= \\text{underallocation of department } i \\text{ (total number of hours below the target)} \\\\\n",
    "t_i &= \\text{target hours that department } i \\text{ should receive} \\\\\n",
    "x_i &= \\text{the new no. of hours allocated to department } i \\\\\n",
    "y_{ijk} &= 1 \\text{ if department } i \\text{ is allocated to room } j \\text{ in day } k, 0 \\text{ otherwise} \\\\\n",
    "f_{ikl} &= 1 \\text{ if department } i \\text{ is allocated on floor } l \\text{ on day k}, 0 \\text{ otherwise}\\\\\n",
    "\\end{align}\n",
    "$$\n"
   ]
  },
  {
   "cell_type": "markdown",
   "id": "ef1fec85-a595-4ec2-8453-0bac52c02539",
   "metadata": {
    "tags": []
   },
   "source": [
    "$$\n",
    "\\begin{align}\n",
    "\\underset{{\\bf s}}{\\text{min}} \\;\\; & \\sum_{i = 1}^6 \\dfrac{s_i}{t_i} \\\\\n",
    "\\text{s.t.} \\;\\; & s_i =\\begin{cases} \n",
    "0 &\\text{ if } t_i \\le x_i\\\\\n",
    "t_i - x_i &\\text{if } t_i \\geq x_i\n",
    "\\end{cases} \\\\\n",
    "& y_{ijk} \\in \\{0, 1\\}\\\\\n",
    "& \\sum_{i = 1}^6 y_{ijk} = 1\\\\\n",
    "& x_i \\geq 0\\\\\n",
    "& f_{ikl} \\in \\{0, 1\\}\\\\\n",
    "& \\sum_{l=1}^3 f_{ikl} \\le 1\\\\\n",
    "i &= 1, 2, ..., 6 \\;\\;\\;\\; j = 1, 2, ..., 5 \\;\\;\\;\\; k = 1, 2, ..., 5 \\;\\;\\;\\; l = 1, 2, 3\n",
    "\\end{align}\n",
    "$$\n"
   ]
  },
  {
   "cell_type": "markdown",
   "id": "67be9ab3-af7e-4efd-92ba-f9c0f2ebb729",
   "metadata": {},
   "source": [
    "#### (2) Python code"
   ]
  },
  {
   "cell_type": "code",
   "execution_count": 8,
   "id": "3d18c529-1300-4191-b7fb-4c1e658d4df7",
   "metadata": {},
   "outputs": [
    {
     "name": "stdout",
     "output_type": "stream",
     "text": [
      "Gurobi Optimizer version 11.0.0 build v11.0.0rc2 (mac64[arm] - Darwin 22.6.0 22G320)\n",
      "\n",
      "CPU model: Apple M2 Pro\n",
      "Thread count: 10 physical cores, 10 logical processors, using up to 10 threads\n",
      "\n",
      "Optimize a model with 169 rows, 252 columns and 660 nonzeros\n",
      "Model fingerprint: 0x917468fa\n",
      "Variable types: 12 continuous, 240 integer (240 binary)\n",
      "Coefficient statistics:\n",
      "  Matrix range     [1e+00, 9e+00]\n",
      "  Objective range  [1e-02, 1e-01]\n",
      "  Bounds range     [1e+00, 1e+00]\n",
      "  RHS range        [1e+00, 1e+02]\n",
      "\n",
      "MIP start from previous solve did not produce a new incumbent solution\n",
      "\n",
      "Presolve removed 78 rows and 66 columns\n",
      "Presolve time: 0.00s\n",
      "Presolved: 91 rows, 186 columns, 516 nonzeros\n",
      "Variable types: 1 continuous, 185 integer (180 binary)\n",
      "Found heuristic solution: objective 0.9843193\n",
      "Found heuristic solution: objective 0.3890176\n",
      "\n",
      "Root relaxation: objective 1.584360e-01, 103 iterations, 0.00 seconds (0.00 work units)\n",
      "\n",
      "    Nodes    |    Current Node    |     Objective Bounds      |     Work\n",
      " Expl Unexpl |  Obj  Depth IntInf | Incumbent    BestBd   Gap | It/Node Time\n",
      "\n",
      "     0     0    0.15844    0    2    0.38902    0.15844  59.3%     -    0s\n",
      "H    0     0                       0.3574992    0.15844  55.7%     -    0s\n",
      "H    0     0                       0.3179468    0.15844  50.2%     -    0s\n",
      "H    0     0                       0.2128857    0.15844  25.6%     -    0s\n",
      "H    0     0                       0.1850753    0.15844  14.4%     -    0s\n",
      "H    0     0                       0.1584360    0.15844  0.00%     -    0s\n",
      "\n",
      "Cutting planes:\n",
      "  Cover: 1\n",
      "  RLT: 1\n",
      "\n",
      "Explored 1 nodes (224 simplex iterations) in 0.01 seconds (0.00 work units)\n",
      "Thread count was 10 (of 10 available processors)\n",
      "\n",
      "Solution count 7: 0.158436 0.185075 0.212886 ... 0.984319\n",
      "\n",
      "Optimal solution found (tolerance 1.00e-04)\n",
      "Best objective 1.584360044802e-01, best bound 1.584360044802e-01, gap 0.0000%\n"
     ]
    }
   ],
   "source": [
    "# Define variable for floor\n",
    "floor = 3\n",
    "f = mod.addVars(dept, day, floor, vtype = GRB.BINARY)\n",
    "\n",
    "# room j to floor l mapping\n",
    "room_floor = {0: 0,\n",
    "              1: 0,\n",
    "              2: 1,\n",
    "              3: 1,\n",
    "              4: 2}\n",
    "\n",
    "# Floor Constraint\n",
    "for i in range(dept):\n",
    "    for k in range(day):\n",
    "        #linking room assignment variable y to floor assignment variable f\n",
    "        for l in range(floor):\n",
    "            # on day k, department i can only be assigned to rooms j that are on a floor l\n",
    "            mod.addConstr(sum(y[i, j, k] for j in range(room) if room_floor[j] == l) <= 2 * f[i, k, l])\n",
    "        # one department assigned to the maximum of 1 floor each day\n",
    "        mod.addConstr(sum(f[i, k, l] for l in range(floor)) <= 1)           \n",
    "\n",
    "\n",
    "# Update and Optimize the new model\n",
    "mod.update()\n",
    "mod.optimize()"
   ]
  },
  {
   "cell_type": "markdown",
   "id": "69f60c10-a0f3-42a1-9f9b-af5fd532d360",
   "metadata": {},
   "source": [
    "</br>"
   ]
  },
  {
   "cell_type": "markdown",
   "id": "7c50b5dc-176b-40dd-a8aa-a1d83c983a57",
   "metadata": {},
   "source": [
    "#### (3) Reporting - allocation hours & timetable"
   ]
  },
  {
   "cell_type": "code",
   "execution_count": 9,
   "id": "5ef16988-1ad1-4a55-951b-fc098e033b32",
   "metadata": {},
   "outputs": [
    {
     "name": "stdout",
     "output_type": "stream",
     "text": [
      "Optimal objective value: 0.15843600448019549\n",
      "\n",
      "DEPT  Allocated   Underallocation   \n",
      "\n",
      "1          87.0     16.4   15.8%\n",
      "\n",
      "2           9.0      0.0    0.0%\n",
      "\n",
      "3          60.0      0.0    0.0%\n",
      "\n",
      "4          18.0      0.0    0.0%\n",
      "\n",
      "5          14.5      0.0    0.0%\n",
      "\n",
      "6          25.0      0.0    0.0%\n",
      "\n"
     ]
    }
   ],
   "source": [
    "if mod.status == GRB.OPTIMAL:\n",
    "    print(f'Optimal objective value: {mod.objVal}\\n')\n",
    "    print(f'{\"DEPT\":<6}{\"Allocated\":<10}{\"Underallocation\":^20}')\n",
    "    print()\n",
    "    for i in range(6):\n",
    "        allocated = x[i].X\n",
    "        underalloc = s[i].X\n",
    "        under_percent = (underalloc / target[i]) * 100 if  s[i].X != 0 else 0\n",
    "        print(f'{i+1:<6}{allocated:>9.1f}{underalloc:>9.1f}{under_percent:>7.1f}%')\n",
    "        print()\n",
    "else:\n",
    "    print('No optimal solution found')"
   ]
  },
  {
   "cell_type": "code",
   "execution_count": 10,
   "id": "da59b194-5cd0-4150-a4b6-02494e7d8344",
   "metadata": {
    "tags": []
   },
   "outputs": [
    {
     "name": "stdout",
     "output_type": "stream",
     "text": [
      "New Allocation Timetable for Departments with Floor Constraints (Dept. Indexed 1-6):\n",
      "\n",
      "          Mon  Tue  Wed  Thu  Fri \n",
      "Room 1:     4    1    6    1    3 \n",
      "Room 2:     2    1    3    1    3 \n",
      "Room 3:     1    3    1    3    1 \n",
      "Room 4:     1    4    1    3    1 \n",
      "Room 5:     3    6    5    6    5 \n"
     ]
    }
   ],
   "source": [
    "room_allocations2 = mod.getAttr('x', y)\n",
    "\n",
    "allocation_table2 = [[0, 0, 0, 0, 0],\n",
    "                    [0, 0, 0, 0, 0],\n",
    "                    [0, 0, 0, 0, 0],\n",
    "                    [0, 0, 0, 0, 0],\n",
    "                    [0, 0, 0, 0, 0]]\n",
    "\n",
    "for i in range(6):\n",
    "    for j in range(5):\n",
    "        for k in range(5):\n",
    "            if room_allocations2[i, j, k] > 0.9:\n",
    "                allocation_table2[j][k] = i+1\n",
    "\n",
    "# Print Table in Readable Format\n",
    "print('New Allocation Timetable for Departments with Floor Constraints (Dept. Indexed 1-6):')\n",
    "print()\n",
    "print('         ', end='')\n",
    "for k in range (day):\n",
    "    print(f'{days[k]:>4}', end=' ')\n",
    "print()\n",
    "\n",
    "for j in range(room):\n",
    "    print (f'Room {j+1}: ', end=' ')\n",
    "    for k in range(day):\n",
    "        print(f'{allocation_table2[j][k]:>4}', end=' ')\n",
    "    print()"
   ]
  }
 ],
 "metadata": {
  "kernelspec": {
   "display_name": "Python 3 (ipykernel)",
   "language": "python",
   "name": "python3"
  },
  "language_info": {
   "codemirror_mode": {
    "name": "ipython",
    "version": 3
   },
   "file_extension": ".py",
   "mimetype": "text/x-python",
   "name": "python",
   "nbconvert_exporter": "python",
   "pygments_lexer": "ipython3",
   "version": "3.11.5"
  }
 },
 "nbformat": 4,
 "nbformat_minor": 5
}
